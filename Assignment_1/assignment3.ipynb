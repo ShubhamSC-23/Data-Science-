{
 "cells": [
  {
   "cell_type": "code",
   "execution_count": 1,
   "id": "3642a45e",
   "metadata": {},
   "outputs": [
    {
     "name": "stdout",
     "output_type": "stream",
     "text": [
      "Status(_api=<tweepy.api.API object at 0x0000020425C03790>, _json={'created_at': 'Wed Apr 20 09:47:34 +0000 2022', 'id': 1516715186740101121, 'id_str': '1516715186740101121', 'text': \"@elonmusk @slashdot 13th 'Yaad-E-Murshid' Polio and Deformity Correction #Camp have been inaugurated today with the… https://t.co/ewX2VJ4Y4R\", 'truncated': True, 'entities': {'hashtags': [{'text': 'Camp', 'indices': [73, 78]}], 'symbols': [], 'user_mentions': [{'screen_name': 'elonmusk', 'name': 'Elon Musk', 'id': 44196397, 'id_str': '44196397', 'indices': [0, 9]}, {'screen_name': 'slashdot', 'name': 'Slashdot', 'id': 1068831, 'id_str': '1068831', 'indices': [10, 19]}], 'urls': [{'url': 'https://t.co/ewX2VJ4Y4R', 'expanded_url': 'https://twitter.com/i/web/status/1516715186740101121', 'display_url': 'twitter.com/i/web/status/1…', 'indices': [117, 140]}]}, 'metadata': {'iso_language_code': 'en', 'result_type': 'recent'}, 'source': '<a href=\"http://twitter.com/download/android\" rel=\"nofollow\">Twitter for Android</a>', 'in_reply_to_status_id': 1516600269899026432, 'in_reply_to_status_id_str': '1516600269899026432', 'in_reply_to_user_id': 44196397, 'in_reply_to_user_id_str': '44196397', 'in_reply_to_screen_name': 'elonmusk', 'user': {'id': 764073361, 'id_str': '764073361', 'name': 'BALJIT KUMAR INSAN', 'screen_name': 'Baljitinsan', 'location': 'Sirsa Haryana', 'description': \"Shah Satnam Ji Green's Welfare Force Wing Member #GreenSwelfare \\n @DSSNewsUpdates\", 'url': 'https://t.co/r8soREz9IR', 'entities': {'url': {'urls': [{'url': 'https://t.co/r8soREz9IR', 'expanded_url': 'http://shahsatnamjigreenswelfareforcewing.org', 'display_url': 'shahsatnamjigreenswelfareforcewing.org', 'indices': [0, 23]}]}, 'description': {'urls': []}}, 'protected': False, 'followers_count': 4417, 'friends_count': 1783, 'listed_count': 9, 'created_at': 'Fri Aug 17 17:01:12 +0000 2012', 'favourites_count': 2355, 'utc_offset': None, 'time_zone': None, 'geo_enabled': True, 'verified': False, 'statuses_count': 2791, 'lang': None, 'contributors_enabled': False, 'is_translator': False, 'is_translation_enabled': False, 'profile_background_color': '000000', 'profile_background_image_url': 'http://abs.twimg.com/images/themes/theme1/bg.png', 'profile_background_image_url_https': 'https://abs.twimg.com/images/themes/theme1/bg.png', 'profile_background_tile': False, 'profile_image_url': 'http://pbs.twimg.com/profile_images/1513458300192493572/Y2nQefHs_normal.jpg', 'profile_image_url_https': 'https://pbs.twimg.com/profile_images/1513458300192493572/Y2nQefHs_normal.jpg', 'profile_banner_url': 'https://pbs.twimg.com/profile_banners/764073361/1626014624', 'profile_link_color': '4A913C', 'profile_sidebar_border_color': '000000', 'profile_sidebar_fill_color': '000000', 'profile_text_color': '000000', 'profile_use_background_image': False, 'has_extended_profile': True, 'default_profile': False, 'default_profile_image': False, 'following': False, 'follow_request_sent': False, 'notifications': False, 'translator_type': 'none', 'withheld_in_countries': []}, 'geo': None, 'coordinates': None, 'place': None, 'contributors': None, 'is_quote_status': False, 'retweet_count': 0, 'favorite_count': 0, 'favorited': False, 'retweeted': False, 'possibly_sensitive': False, 'lang': 'en'}, created_at=datetime.datetime(2022, 4, 20, 9, 47, 34, tzinfo=datetime.timezone.utc), id=1516715186740101121, id_str='1516715186740101121', text=\"@elonmusk @slashdot 13th 'Yaad-E-Murshid' Polio and Deformity Correction #Camp have been inaugurated today with the… https://t.co/ewX2VJ4Y4R\", truncated=True, entities={'hashtags': [{'text': 'Camp', 'indices': [73, 78]}], 'symbols': [], 'user_mentions': [{'screen_name': 'elonmusk', 'name': 'Elon Musk', 'id': 44196397, 'id_str': '44196397', 'indices': [0, 9]}, {'screen_name': 'slashdot', 'name': 'Slashdot', 'id': 1068831, 'id_str': '1068831', 'indices': [10, 19]}], 'urls': [{'url': 'https://t.co/ewX2VJ4Y4R', 'expanded_url': 'https://twitter.com/i/web/status/1516715186740101121', 'display_url': 'twitter.com/i/web/status/1…', 'indices': [117, 140]}]}, metadata={'iso_language_code': 'en', 'result_type': 'recent'}, source='Twitter for Android', source_url='http://twitter.com/download/android', in_reply_to_status_id=1516600269899026432, in_reply_to_status_id_str='1516600269899026432', in_reply_to_user_id=44196397, in_reply_to_user_id_str='44196397', in_reply_to_screen_name='elonmusk', author=User(_api=<tweepy.api.API object at 0x0000020425C03790>, _json={'id': 764073361, 'id_str': '764073361', 'name': 'BALJIT KUMAR INSAN', 'screen_name': 'Baljitinsan', 'location': 'Sirsa Haryana', 'description': \"Shah Satnam Ji Green's Welfare Force Wing Member #GreenSwelfare \\n @DSSNewsUpdates\", 'url': 'https://t.co/r8soREz9IR', 'entities': {'url': {'urls': [{'url': 'https://t.co/r8soREz9IR', 'expanded_url': 'http://shahsatnamjigreenswelfareforcewing.org', 'display_url': 'shahsatnamjigreenswelfareforcewing.org', 'indices': [0, 23]}]}, 'description': {'urls': []}}, 'protected': False, 'followers_count': 4417, 'friends_count': 1783, 'listed_count': 9, 'created_at': 'Fri Aug 17 17:01:12 +0000 2012', 'favourites_count': 2355, 'utc_offset': None, 'time_zone': None, 'geo_enabled': True, 'verified': False, 'statuses_count': 2791, 'lang': None, 'contributors_enabled': False, 'is_translator': False, 'is_translation_enabled': False, 'profile_background_color': '000000', 'profile_background_image_url': 'http://abs.twimg.com/images/themes/theme1/bg.png', 'profile_background_image_url_https': 'https://abs.twimg.com/images/themes/theme1/bg.png', 'profile_background_tile': False, 'profile_image_url': 'http://pbs.twimg.com/profile_images/1513458300192493572/Y2nQefHs_normal.jpg', 'profile_image_url_https': 'https://pbs.twimg.com/profile_images/1513458300192493572/Y2nQefHs_normal.jpg', 'profile_banner_url': 'https://pbs.twimg.com/profile_banners/764073361/1626014624', 'profile_link_color': '4A913C', 'profile_sidebar_border_color': '000000', 'profile_sidebar_fill_color': '000000', 'profile_text_color': '000000', 'profile_use_background_image': False, 'has_extended_profile': True, 'default_profile': False, 'default_profile_image': False, 'following': False, 'follow_request_sent': False, 'notifications': False, 'translator_type': 'none', 'withheld_in_countries': []}, id=764073361, id_str='764073361', name='BALJIT KUMAR INSAN', screen_name='Baljitinsan', location='Sirsa Haryana', description=\"Shah Satnam Ji Green's Welfare Force Wing Member #GreenSwelfare \\n @DSSNewsUpdates\", url='https://t.co/r8soREz9IR', entities={'url': {'urls': [{'url': 'https://t.co/r8soREz9IR', 'expanded_url': 'http://shahsatnamjigreenswelfareforcewing.org', 'display_url': 'shahsatnamjigreenswelfareforcewing.org', 'indices': [0, 23]}]}, 'description': {'urls': []}}, protected=False, followers_count=4417, friends_count=1783, listed_count=9, created_at=datetime.datetime(2012, 8, 17, 17, 1, 12, tzinfo=datetime.timezone.utc), favourites_count=2355, utc_offset=None, time_zone=None, geo_enabled=True, verified=False, statuses_count=2791, lang=None, contributors_enabled=False, is_translator=False, is_translation_enabled=False, profile_background_color='000000', profile_background_image_url='http://abs.twimg.com/images/themes/theme1/bg.png', profile_background_image_url_https='https://abs.twimg.com/images/themes/theme1/bg.png', profile_background_tile=False, profile_image_url='http://pbs.twimg.com/profile_images/1513458300192493572/Y2nQefHs_normal.jpg', profile_image_url_https='https://pbs.twimg.com/profile_images/1513458300192493572/Y2nQefHs_normal.jpg', profile_banner_url='https://pbs.twimg.com/profile_banners/764073361/1626014624', profile_link_color='4A913C', profile_sidebar_border_color='000000', profile_sidebar_fill_color='000000', profile_text_color='000000', profile_use_background_image=False, has_extended_profile=True, default_profile=False, default_profile_image=False, following=False, follow_request_sent=False, notifications=False, translator_type='none', withheld_in_countries=[]), user=User(_api=<tweepy.api.API object at 0x0000020425C03790>, _json={'id': 764073361, 'id_str': '764073361', 'name': 'BALJIT KUMAR INSAN', 'screen_name': 'Baljitinsan', 'location': 'Sirsa Haryana', 'description': \"Shah Satnam Ji Green's Welfare Force Wing Member #GreenSwelfare \\n @DSSNewsUpdates\", 'url': 'https://t.co/r8soREz9IR', 'entities': {'url': {'urls': [{'url': 'https://t.co/r8soREz9IR', 'expanded_url': 'http://shahsatnamjigreenswelfareforcewing.org', 'display_url': 'shahsatnamjigreenswelfareforcewing.org', 'indices': [0, 23]}]}, 'description': {'urls': []}}, 'protected': False, 'followers_count': 4417, 'friends_count': 1783, 'listed_count': 9, 'created_at': 'Fri Aug 17 17:01:12 +0000 2012', 'favourites_count': 2355, 'utc_offset': None, 'time_zone': None, 'geo_enabled': True, 'verified': False, 'statuses_count': 2791, 'lang': None, 'contributors_enabled': False, 'is_translator': False, 'is_translation_enabled': False, 'profile_background_color': '000000', 'profile_background_image_url': 'http://abs.twimg.com/images/themes/theme1/bg.png', 'profile_background_image_url_https': 'https://abs.twimg.com/images/themes/theme1/bg.png', 'profile_background_tile': False, 'profile_image_url': 'http://pbs.twimg.com/profile_images/1513458300192493572/Y2nQefHs_normal.jpg', 'profile_image_url_https': 'https://pbs.twimg.com/profile_images/1513458300192493572/Y2nQefHs_normal.jpg', 'profile_banner_url': 'https://pbs.twimg.com/profile_banners/764073361/1626014624', 'profile_link_color': '4A913C', 'profile_sidebar_border_color': '000000', 'profile_sidebar_fill_color': '000000', 'profile_text_color': '000000', 'profile_use_background_image': False, 'has_extended_profile': True, 'default_profile': False, 'default_profile_image': False, 'following': False, 'follow_request_sent': False, 'notifications': False, 'translator_type': 'none', 'withheld_in_countries': []}, id=764073361, id_str='764073361', name='BALJIT KUMAR INSAN', screen_name='Baljitinsan', location='Sirsa Haryana', description=\"Shah Satnam Ji Green's Welfare Force Wing Member #GreenSwelfare \\n @DSSNewsUpdates\", url='https://t.co/r8soREz9IR', entities={'url': {'urls': [{'url': 'https://t.co/r8soREz9IR', 'expanded_url': 'http://shahsatnamjigreenswelfareforcewing.org', 'display_url': 'shahsatnamjigreenswelfareforcewing.org', 'indices': [0, 23]}]}, 'description': {'urls': []}}, protected=False, followers_count=4417, friends_count=1783, listed_count=9, created_at=datetime.datetime(2012, 8, 17, 17, 1, 12, tzinfo=datetime.timezone.utc), favourites_count=2355, utc_offset=None, time_zone=None, geo_enabled=True, verified=False, statuses_count=2791, lang=None, contributors_enabled=False, is_translator=False, is_translation_enabled=False, profile_background_color='000000', profile_background_image_url='http://abs.twimg.com/images/themes/theme1/bg.png', profile_background_image_url_https='https://abs.twimg.com/images/themes/theme1/bg.png', profile_background_tile=False, profile_image_url='http://pbs.twimg.com/profile_images/1513458300192493572/Y2nQefHs_normal.jpg', profile_image_url_https='https://pbs.twimg.com/profile_images/1513458300192493572/Y2nQefHs_normal.jpg', profile_banner_url='https://pbs.twimg.com/profile_banners/764073361/1626014624', profile_link_color='4A913C', profile_sidebar_border_color='000000', profile_sidebar_fill_color='000000', profile_text_color='000000', profile_use_background_image=False, has_extended_profile=True, default_profile=False, default_profile_image=False, following=False, follow_request_sent=False, notifications=False, translator_type='none', withheld_in_countries=[]), geo=None, coordinates=None, place=None, contributors=None, is_quote_status=False, retweet_count=0, favorite_count=0, favorited=False, retweeted=False, possibly_sensitive=False, lang='en')\n"
     ]
    }
   ],
   "source": [
    "# import the module \n",
    "import tweepy \n",
    "\n",
    "# assign the values accordingly \n",
    "consumer_key = \"f9sBer1OHr4n87Tb2CRf9tOnR\" \n",
    "consumer_secret = \"68TlatsxXChb6bGygLCBy3NxrQtVJSt1oz4Jqk5kHdyUT62ZN9\" \n",
    "access_token = \"1515918522584825856-YqXuMsgEjMSFGlUN7y9DvKvDb34Y4n\" \n",
    "access_token_secret = \"LRbesAkxDYt7Ite47cZsWKJPmiMF9Zan1fVcgOs4Zx0UD\" \n",
    "\n",
    "# authorization of consumer key and consumer secret \n",
    "auth = tweepy.OAuthHandler(consumer_key, consumer_secret) \n",
    "\n",
    "# set access to user's access key and access secret \n",
    "auth.set_access_token(access_token, access_token_secret) \n",
    "\n",
    "# calling the api \n",
    "api = tweepy.API(auth) \n",
    "\n",
    "# the ID of the user \n",
    "#id = \"@Shubham50514341\"\n",
    "# fetching the user \n",
    "tweets_list = tweepy.Cursor(api.search_tweets, q=\"from: elonmusk\", lang='en').items(1)\n",
    "\n",
    "\n",
    "# fetching the create_at attribute \n",
    "for i in tweets_list:\n",
    "    print(i)\n"
   ]
  },
  {
   "cell_type": "code",
   "execution_count": null,
   "id": "648f4304",
   "metadata": {},
   "outputs": [],
   "source": []
  }
 ],
 "metadata": {
  "kernelspec": {
   "display_name": "Python 3",
   "language": "python",
   "name": "python3"
  },
  "language_info": {
   "codemirror_mode": {
    "name": "ipython",
    "version": 3
   },
   "file_extension": ".py",
   "mimetype": "text/x-python",
   "name": "python",
   "nbconvert_exporter": "python",
   "pygments_lexer": "ipython3",
   "version": "3.8.8"
  }
 },
 "nbformat": 4,
 "nbformat_minor": 5
}
